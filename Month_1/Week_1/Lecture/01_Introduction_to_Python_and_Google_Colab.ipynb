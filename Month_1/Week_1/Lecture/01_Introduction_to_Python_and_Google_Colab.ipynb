{
  "cells": [
    {
      "cell_type": "markdown",
      "metadata": {
        "id": "QCRKWSTSyvUf"
      },
      "source": [
        "# Notebook 1: Introduction to Google Colab and Python Basics"
      ]
    },
    {
      "cell_type": "markdown",
      "metadata": {
        "id": "xhbFcArwyvUo"
      },
      "source": [
        "## SECTION 1: GETTING STARTED WITH GOOGLE COLAB\n",
        "\n",
        "Welcome to your first Python for Data Analysis class! This notebook will introduce you to Google Colab and Python basics, with a special focus on helping SQL users transition to Python."
      ]
    },
    {
      "cell_type": "code",
      "execution_count": null,
      "metadata": {
        "id": "q8qUOnpByvUp",
        "outputId": "e4f466d7-5ab2-4c9b-eafb-bbe9097b5292"
      },
      "outputs": [
        {
          "name": "stdout",
          "output_type": "stream",
          "text": [
            "Welcome to Google Colab!\n"
          ]
        }
      ],
      "source": [
        "# This is a code cell. You can run Python code here by clicking the play button\n",
        "# on the left or pressing Shift+Enter.\n",
        "print(\"Welcome to Google Colab!\")\n",
        "\n",
        "# EXERCISE: Run this cell to verify your environment is working properly."
      ]
    },
    {
      "cell_type": "code",
      "execution_count": null,
      "metadata": {
        "id": "UvqtVxoAyvUt",
        "outputId": "c6358057-3c7b-40d5-8ab8-6c28828cfa3c"
      },
      "outputs": [
        {
          "name": "stdout",
          "output_type": "stream",
          "text": [
            "Python version: 3.13.2 (tags/v3.13.2:4f8bb39, Feb  4 2025, 15:23:48) [MSC v.1942 64 bit (AMD64)]\n"
          ]
        }
      ],
      "source": [
        "# Google Colab provides many built-in Python libraries\n",
        "# Let's check our Python version\n",
        "import sys\n",
        "print(f\"Python version: {sys.version}\")"
      ]
    },
    {
      "cell_type": "code",
      "execution_count": null,
      "metadata": {
        "id": "VWAwhBQ6yvUu",
        "outputId": "52d7cb23-ffdd-45d1-d5fd-f475f588b7c5"
      },
      "outputs": [
        {
          "name": "stdout",
          "output_type": "stream",
          "text": [
            "Python version: 3.13.2 (tags/v3.13.2:4f8bb39, Feb  4 2025, 15:23:48) [MSC v.1942 64 bit (AMD64)]\n"
          ]
        }
      ],
      "source": [
        "import sys\n",
        "print(f\"Python version: {sys.version}\")"
      ]
    },
    {
      "cell_type": "markdown",
      "metadata": {
        "id": "cxoSCpBkyvUu"
      },
      "source": [
        "## SECTION 2: PYTHON VARIABLES AND DATA TYPES\n",
        "\n",
        "In Python, you can create variables without declaring their type. This is different from SQL where column types must be defined in tables."
      ]
    },
    {
      "cell_type": "code",
      "execution_count": null,
      "metadata": {
        "id": "9pjgNf03yvUv",
        "outputId": "fa147cff-1e56-464b-ea04-4ad291b339ba"
      },
      "outputs": [
        {
          "name": "stdout",
          "output_type": "stream",
          "text": [
            "42\n",
            "3.14159\n",
            "Hello, Data Analyst!\n",
            "True\n"
          ]
        }
      ],
      "source": [
        "# Numeric types\n",
        "integer_value = 42\n",
        "float_value = 3.14159\n",
        "\n",
        "# Text type\n",
        "text_string = \"Hello, Data Analyst!\"\n",
        "another_string = 'Single quotes work too'\n",
        "\n",
        "# Boolean type\n",
        "is_active = True\n",
        "has_data = False\n",
        "\n",
        "# The print() function outputs values to the console\n",
        "print(integer_value)\n",
        "print(float_value)\n",
        "print(text_string)\n",
        "print(is_active)"
      ]
    },
    {
      "cell_type": "code",
      "execution_count": null,
      "metadata": {
        "id": "-6s2ADPjyvUx",
        "outputId": "6384bc44-35e8-484b-a718-a112d6e96dd8"
      },
      "outputs": [
        {
          "name": "stdout",
          "output_type": "stream",
          "text": [
            "<class 'int'>\n",
            "<class 'float'>\n",
            "<class 'str'>\n",
            "<class 'bool'>\n"
          ]
        }
      ],
      "source": [
        "# You can check variable types with the type() function\n",
        "print(type(integer_value))  # <class 'int'>\n",
        "print(type(float_value))    # <class 'float'>\n",
        "print(type(text_string))    # <class 'str'>\n",
        "print(type(is_active))      # <class 'bool'>"
      ]
    },
    {
      "cell_type": "markdown",
      "metadata": {
        "id": "z2NnxdESyvUy"
      },
      "source": [
        "### EXERCISE: Create your own variables with different data types and print their values and types.\n",
        "\n",
        "Try creating variables to represent data you might find in an e-commerce dataset (like those in the Olist database)."
      ]
    },
    {
      "cell_type": "code",
      "execution_count": null,
      "metadata": {
        "id": "dPg8mkqUyvUz"
      },
      "outputs": [],
      "source": [
        "# Your code here:\n",
        "\n"
      ]
    },
    {
      "cell_type": "markdown",
      "metadata": {
        "id": "mgEfn1DvyvUz"
      },
      "source": [
        "## SECTION 3: BASIC OPERATIONS"
      ]
    },
    {
      "cell_type": "code",
      "execution_count": null,
      "metadata": {
        "id": "PyybykOYyvU0",
        "outputId": "0fb279c6-a45a-4a51-f300-c29bc6e52271"
      },
      "outputs": [
        {
          "name": "stdout",
          "output_type": "stream",
          "text": [
            "Addition: 15\n",
            "Subtraction: 5\n",
            "Multiplication: 50\n",
            "Division: 2.0\n",
            "Integer Division: 3\n",
            "Remainder: 1\n",
            "Exponentiation: 100\n"
          ]
        }
      ],
      "source": [
        "# Arithmetic operations\n",
        "addition = 10 + 5 # variable declaration or assignment\n",
        "subtraction = 10 - 5\n",
        "multiplication = 10 * 5\n",
        "division = 10 / 5  # Returns float\n",
        "integer_division = 10 // 3  # Returns integer part only\n",
        "remainder = 10 % 3  # Returns remainder\n",
        "exponentiation = 10 ** 2  # 10 to the power of 2\n",
        "\n",
        "print(f\"Addition: {addition}\") # calling a variable or variable calling\n",
        "print(f\"Subtraction: {subtraction}\")\n",
        "print(f\"Multiplication: {multiplication}\")\n",
        "print(f\"Division: {division}\")\n",
        "print(f\"Integer Division: {integer_division}\")\n",
        "print(f\"Remainder: {remainder}\")\n",
        "print(f\"Exponentiation: {exponentiation}\")"
      ]
    },
    {
      "cell_type": "code",
      "execution_count": null,
      "metadata": {
        "id": "y5-YP8_OyvU1",
        "outputId": "1d6e95d4-6ad5-47e9-da15-a2dff7e88e36"
      },
      "outputs": [
        {
          "name": "stdout",
          "output_type": "stream",
          "text": [
            "Data Analyst\n"
          ]
        }
      ],
      "source": [
        "# String operations\n",
        "first_name = \"Data\"\n",
        "last_name = \"Analyst\"\n",
        "\n",
        "# Concatenation\n",
        "full_name = first_name + \" \" + last_name\n",
        "print(full_name)\n"
      ]
    },
    {
      "cell_type": "code",
      "execution_count": null,
      "metadata": {
        "id": "awPyQe1ByvU2",
        "outputId": "93d12476-7407-44c8-d943-9737572fc108"
      },
      "outputs": [
        {
          "name": "stdout",
          "output_type": "stream",
          "text": [
            "DATA ANALYST\n",
            "data analyst\n",
            "12\n",
            "Python Analyst\n"
          ]
        }
      ],
      "source": [
        "\n",
        "# String methods\n",
        "print(full_name.upper())  # Convert to uppercase\n",
        "print(full_name.lower())  # Convert to lowercase\n",
        "print(len(full_name))     # String length\n",
        "print(full_name.replace(\"Data\", \"Python\"))  # Replace substring\n"
      ]
    },
    {
      "cell_type": "code",
      "execution_count": null,
      "metadata": {
        "id": "UN_hCSM5yvU2",
        "outputId": "2a63a652-de6a-42f7-8e76-5bdb166161c9"
      },
      "outputs": [
        {
          "name": "stdout",
          "output_type": "stream",
          "text": [
            "I am a Data Analyst, 25 years old with 3.5 years of experience.\n"
          ]
        }
      ],
      "source": [
        "\n",
        "# String formatting (f-strings, introduced in Python 3.6)\n",
        "age = 25\n",
        "experience = 3.5\n",
        "intro = f\"I am a {full_name}, {age} years old with {experience} years of experience.\"\n",
        "print(intro)"
      ]
    },
    {
      "cell_type": "markdown",
      "metadata": {
        "id": "xxTiC0fxyvU3"
      },
      "source": [
        "### EXERCISE: Create and manipulate your own variables to practice these operations.\n",
        "\n",
        "Try performing calculations you might do with an e-commerce dataset, like calculating total order values or formatting product information."
      ]
    },
    {
      "cell_type": "code",
      "execution_count": null,
      "metadata": {
        "id": "hUO9460-yvU3"
      },
      "outputs": [],
      "source": [
        "# Your code here:\n",
        "\n"
      ]
    },
    {
      "cell_type": "markdown",
      "metadata": {
        "id": "qSeGyI69yvU3"
      },
      "source": [
        "## SECTION 4: DATA STRUCTURES\n",
        "\n",
        "### LISTS\n",
        "Similar to arrays in other languages, can store mixed data types"
      ]
    },
    {
      "cell_type": "code",
      "execution_count": null,
      "metadata": {
        "id": "pJElYzJnyvU4",
        "outputId": "0821812b-599a-42d9-d533-0180032d540d"
      },
      "outputs": [
        {
          "name": "stdout",
          "output_type": "stream",
          "text": [
            "['Laptop', 'Headphones', 'Mouse', 'Keyboard']\n",
            "[1200, 150, 25, 60]\n",
            "['Product', 42, 3.14, True, None]\n"
          ]
        }
      ],
      "source": [
        "# Creating a list\n",
        "products = [\"Laptop\", \"Headphones\", \"Mouse\", \"Keyboard\"]\n",
        "prices = [1200, 150, 25, 60]\n",
        "mixed_list = [\"Product\", 42, 3.14, True, None]\n",
        "\n",
        "print(products)\n",
        "print(prices)\n",
        "print(mixed_list)\n"
      ]
    },
    {
      "cell_type": "code",
      "execution_count": null,
      "metadata": {
        "id": "7qtyGsd-yvU5",
        "outputId": "18e0b861-da90-4ac1-be08-604b9383faa9"
      },
      "outputs": [
        {
          "name": "stdout",
          "output_type": "stream",
          "text": [
            "First product: Laptop\n",
            "Last product: Keyboard\n"
          ]
        }
      ],
      "source": [
        "\n",
        "# Accessing list elements (0-indexed)\n",
        "print(f\"First product: {products[0]}\")  # Laptop\n",
        "print(f\"Last product: {products[-1]}\")  # Keyboard\n"
      ]
    },
    {
      "cell_type": "code",
      "execution_count": null,
      "metadata": {
        "id": "WtlQAG3myvU5",
        "outputId": "568567c4-11e0-4277-d60d-3578f878abd4"
      },
      "outputs": [
        {
          "name": "stdout",
          "output_type": "stream",
          "text": [
            "First two products: ['Laptop', 'Headphones']\n",
            "Every other price: [1200, 25]\n"
          ]
        }
      ],
      "source": [
        "\n",
        "# Slicing lists [start:end:step]\n",
        "print(f\"First two products: {products[0:2]}\")  # ['Laptop', 'Headphones']\n",
        "print(f\"Every other price: {prices[::2]}\")     # [1200, 25]"
      ]
    },
    {
      "cell_type": "code",
      "execution_count": null,
      "metadata": {
        "id": "6qPMoixqyvU6",
        "outputId": "6e62b1cf-4c66-4c4d-a98d-9caefe39915f"
      },
      "outputs": [
        {
          "data": {
            "text/plain": [
              "['Laptop', 'Headphones', 'Mouse', 'Keyboard']"
            ]
          },
          "execution_count": 17,
          "metadata": {},
          "output_type": "execute_result"
        }
      ],
      "source": [
        "products"
      ]
    },
    {
      "cell_type": "code",
      "execution_count": null,
      "metadata": {
        "id": "7p6ZosouyvU6",
        "outputId": "3396abfb-9ef3-4505-aa7d-86638d7c7dab"
      },
      "outputs": [
        {
          "name": "stdout",
          "output_type": "stream",
          "text": [
            "['Laptop', 'Headphones', 'Mouse', 'Keyboard', 'Monitor']\n"
          ]
        }
      ],
      "source": [
        "# List methods\n",
        "products.append(\"Monitor\")  # Add to end\n",
        "print(products)\n"
      ]
    },
    {
      "cell_type": "code",
      "execution_count": null,
      "metadata": {
        "id": "_QHJ8ldRyvU6",
        "outputId": "d620bddd-07f2-43b4-9357-8edef6b75c4f"
      },
      "outputs": [
        {
          "name": "stdout",
          "output_type": "stream",
          "text": [
            "['Laptop', 'Tablet', 'Headphones', 'Mouse', 'Keyboard', 'Monitor']\n"
          ]
        }
      ],
      "source": [
        "\n",
        "products.insert(1, \"Tablet\")  # Insert at specific position\n",
        "print(products)\n"
      ]
    },
    {
      "cell_type": "code",
      "execution_count": null,
      "metadata": {
        "id": "LurwwQMHyvU7",
        "outputId": "a7d4ca51-ad82-45b1-a3e6-f87454a1b3ef"
      },
      "outputs": [
        {
          "name": "stdout",
          "output_type": "stream",
          "text": [
            "['Laptop', 'Tablet', 'Headphones', 'Keyboard', 'Monitor']\n"
          ]
        }
      ],
      "source": [
        "\n",
        "products.remove(\"Mouse\")  # Remove specific value\n",
        "print(products)\n"
      ]
    },
    {
      "cell_type": "code",
      "execution_count": null,
      "metadata": {
        "id": "_NC8zOEYyvU7",
        "outputId": "a237e2db-14fc-4c9c-a121-791b7d989d3f"
      },
      "outputs": [
        {
          "name": "stdout",
          "output_type": "stream",
          "text": [
            "Removed: Monitor, Remaining: ['Laptop', 'Tablet', 'Headphones', 'Keyboard']\n"
          ]
        }
      ],
      "source": [
        "\n",
        "popped_item = products.pop()  # Remove and return last item\n",
        "print(f\"Removed: {popped_item}, Remaining: {products}\")\n"
      ]
    },
    {
      "cell_type": "code",
      "execution_count": null,
      "metadata": {
        "id": "IiWbtVhFyvU7",
        "outputId": "49a0b84d-651a-4365-ced5-b017bffdfcf1"
      },
      "outputs": [
        {
          "name": "stdout",
          "output_type": "stream",
          "text": [
            "Total products: 4\n"
          ]
        }
      ],
      "source": [
        "\n",
        "# List operations\n",
        "total_items = len(products)\n",
        "print(f\"Total products: {total_items}\")\n"
      ]
    },
    {
      "cell_type": "code",
      "execution_count": null,
      "metadata": {
        "id": "iBGoej-IyvU8",
        "outputId": "f08d9157-ac16-4c00-e724-76e29d7283b1"
      },
      "outputs": [
        {
          "data": {
            "text/plain": [
              "['Laptop', 'Tablet', 'Headphones', 'Keyboard']"
            ]
          },
          "execution_count": 24,
          "metadata": {},
          "output_type": "execute_result"
        }
      ],
      "source": [
        "products"
      ]
    },
    {
      "cell_type": "code",
      "execution_count": null,
      "metadata": {
        "id": "H7D5ibNxyvU8",
        "outputId": "bc703e75-dcf7-4c08-8844-33676ef6c647"
      },
      "outputs": [
        {
          "data": {
            "text/plain": [
              "4"
            ]
          },
          "execution_count": 23,
          "metadata": {},
          "output_type": "execute_result"
        }
      ],
      "source": [
        "len('girl')"
      ]
    },
    {
      "cell_type": "code",
      "execution_count": null,
      "metadata": {
        "id": "tiofvxxnyvU8",
        "outputId": "9d68248a-1122-432c-ac34-143fa4b08ad1"
      },
      "outputs": [
        {
          "data": {
            "text/plain": [
              "[1200, 150, 25, 60]"
            ]
          },
          "execution_count": 25,
          "metadata": {},
          "output_type": "execute_result"
        }
      ],
      "source": [
        "prices"
      ]
    },
    {
      "cell_type": "code",
      "execution_count": null,
      "metadata": {
        "id": "XyaRwyuYyvU9",
        "outputId": "2ae5969f-f302-4549-a69c-7d6f3cfae3ef"
      },
      "outputs": [
        {
          "name": "stdout",
          "output_type": "stream",
          "text": [
            "Sorted prices: [1200, 150, 60, 25]\n"
          ]
        }
      ],
      "source": [
        "\n",
        "sorted_prices = sorted(prices, reverse=True)  # Sort in descending order\n",
        "print(f\"Sorted prices: {sorted_prices}\")"
      ]
    },
    {
      "cell_type": "markdown",
      "metadata": {
        "id": "eV_YVIf2yvU9"
      },
      "source": [
        "### DICTIONARIES\n",
        "Key-value pairs (similar to JSON)\n",
        "\n",
        "In SQL, this might be like a row in a table with column names as keys"
      ]
    },
    {
      "cell_type": "code",
      "execution_count": null,
      "metadata": {
        "id": "uBYzCU0qyvU-",
        "outputId": "ac6c0db0-a45a-4376-919d-e0f8c0feed08"
      },
      "outputs": [
        {
          "name": "stdout",
          "output_type": "stream",
          "text": [
            "{'name': 'Laptop', 'brand': 'TechBrand', 'price': 1200, 'in_stock': True, 'specs': {'cpu': 'Intel i7', 'ram': '16GB', 'storage': '512GB SSD'}}\n"
          ]
        }
      ],
      "source": [
        "product = {\n",
        "    \"name\": \"Laptop\",\n",
        "    \"brand\": \"TechBrand\",\n",
        "    \"price\": 1200,\n",
        "    \"in_stock\": True,\n",
        "    \"specs\": {\n",
        "        \"cpu\": \"Intel i7\",\n",
        "        \"ram\": \"16GB\",\n",
        "        \"storage\": \"512GB SSD\"\n",
        "        # add more specifications here\n",
        "    }\n",
        "}\n",
        "\n",
        "print(product)\n"
      ]
    },
    {
      "cell_type": "code",
      "execution_count": null,
      "metadata": {
        "id": "cS-kQqKlyvU_",
        "outputId": "398c147f-57ad-431a-c24a-84868bce4fcd"
      },
      "outputs": [
        {
          "name": "stdout",
          "output_type": "stream",
          "text": [
            "Product name: Laptop\n",
            "CPU: 16GB\n"
          ]
        }
      ],
      "source": [
        "\n",
        "# Accessing dictionary values\n",
        "print(f\"Product name: {product['name']}\")\n",
        "print(f\"CPU: {product['specs']['ram']}\")\n"
      ]
    },
    {
      "cell_type": "code",
      "execution_count": null,
      "metadata": {
        "id": "0gI9cH4dyvU_",
        "outputId": "ec444738-8519-4884-d065-50017df47dfc"
      },
      "outputs": [
        {
          "name": "stdout",
          "output_type": "stream",
          "text": [
            "Keys: dict_keys(['name', 'brand', 'price', 'in_stock', 'specs'])\n",
            "Values: dict_values(['Laptop', 'TechBrand', 1200, True, {'cpu': 'Intel i7', 'ram': '16GB', 'storage': '512GB SSD'}])\n",
            "Items: dict_items([('name', 'Laptop'), ('brand', 'TechBrand'), ('price', 1200), ('in_stock', True), ('specs', {'cpu': 'Intel i7', 'ram': '16GB', 'storage': '512GB SSD'})])\n"
          ]
        }
      ],
      "source": [
        "\n",
        "# Dictionary methods\n",
        "print(f\"Keys: {product.keys()}\")\n",
        "print(f\"Values: {product.values()}\")\n",
        "print(f\"Items: {product.items()}\")\n"
      ]
    },
    {
      "cell_type": "code",
      "execution_count": null,
      "metadata": {
        "id": "lZYv04jSyvU_",
        "outputId": "3dc65185-165c-467a-cd6a-8a20e28abb5a"
      },
      "outputs": [
        {
          "name": "stdout",
          "output_type": "stream",
          "text": [
            "{'name': 'Laptop', 'brand': 'TechBrand', 'price': 1100, 'in_stock': True, 'specs': {'cpu': 'Intel i7', 'ram': '16GB', 'storage': '512GB SSD'}, 'color': 'Silver'}\n"
          ]
        }
      ],
      "source": [
        "\n",
        "# Adding/updating values\n",
        "product[\"color\"] = \"Silver\"\n",
        "product[\"price\"] = 1100  # Update existing key\n",
        "print(product)\n"
      ]
    },
    {
      "cell_type": "code",
      "execution_count": null,
      "metadata": {
        "id": "CiSSWItYyvVA",
        "outputId": "1105c771-6d36-4528-8ea9-ed06b07649fe"
      },
      "outputs": [
        {
          "name": "stdout",
          "output_type": "stream",
          "text": [
            "1100\n"
          ]
        }
      ],
      "source": [
        "\n",
        "# Safe access with get() (returns None or default if key doesn't exist)\n",
        "print(product.get(\"price\", \"Not specified\"))"
      ]
    },
    {
      "cell_type": "markdown",
      "metadata": {
        "id": "oO8q9lVdyvVA"
      },
      "source": [
        "### EXERCISE: Create your own lists and dictionaries and practice accessing and modifying them.\n",
        "\n",
        "Try creating data structures that might represent e-commerce orders, customers, or products."
      ]
    },
    {
      "cell_type": "code",
      "execution_count": null,
      "metadata": {
        "id": "Xrd8f0gpyvVA"
      },
      "outputs": [],
      "source": [
        "# Your code here:\n",
        "\n"
      ]
    },
    {
      "cell_type": "code",
      "execution_count": null,
      "metadata": {
        "id": "KW80JNp_yvVI",
        "outputId": "84f6d17b-da11-49dd-e38c-db2260fb52c3"
      },
      "outputs": [
        {
          "name": "stdout",
          "output_type": "stream",
          "text": [
            "My name is  Prince\n",
            "My name is  Prince and I am a  Prince\n",
            "\n",
            "My 'name' is Prince and I am a Prince\n"
          ]
        }
      ],
      "source": [
        "name = \"Prince\"\n",
        "print(\"My name is \", name) # calling a variable or variable calling\n",
        "print('My name is ', name , 'and I am a ', name)\n",
        "print()\n",
        "print(f\"My 'name' is {name} and I am a {name}\") # f-string format\n",
        "# He said \"Hello ,here ai I but 'I am not showing up!'\""
      ]
    },
    {
      "cell_type": "markdown",
      "metadata": {
        "id": "G8eeGBKdyvVI"
      },
      "source": [
        "## SECTION 5: CONTROL FLOW\n",
        "\n",
        "### IF STATEMENTS"
      ]
    },
    {
      "cell_type": "markdown",
      "metadata": {
        "id": "Dl8g9Xg7yvVJ"
      },
      "source": [
        "if this happens then do this\n",
        "if the price of the pen is N50, then buy otherwise bring back my money\n",
        "\n",
        "condition = if the price of the pen is N50\n",
        "\n",
        "\n",
        "action = buy\n",
        "\n",
        "\n",
        "counter action = do nothing"
      ]
    },
    {
      "cell_type": "code",
      "execution_count": null,
      "metadata": {
        "id": "Sl-jSZy-yvVJ",
        "outputId": "2de76c14-b7d5-455e-de77-0c243b41b3f9"
      },
      "outputs": [
        {
          "name": "stdout",
          "output_type": "stream",
          "text": [
            "Low price\n"
          ]
        }
      ],
      "source": [
        "price = 10\n",
        "\n",
        "if price > 100: # condition\n",
        "    print(\"High price\") # consequence\n",
        "elif price > 50:\n",
        "    print(\"Medium price\")\n",
        "else:\n",
        "    print(\"Low price\")\n"
      ]
    },
    {
      "cell_type": "code",
      "execution_count": null,
      "metadata": {
        "id": "K2qQ7GVgyvVJ",
        "outputId": "83abaf8a-53e0-4ad9-f7a3-d5a00020acf2"
      },
      "outputs": [
        {
          "data": {
            "text/plain": [
              "True"
            ]
          },
          "execution_count": 54,
          "metadata": {},
          "output_type": "execute_result"
        }
      ],
      "source": [
        "True and True # True\n",
        "True or False # True\n",
        "False or True # True"
      ]
    },
    {
      "cell_type": "code",
      "execution_count": null,
      "metadata": {
        "id": "DpVeMbxLyvVK",
        "outputId": "93e25acc-eca2-4590-ff9d-c341590aed2e"
      },
      "outputs": [
        {
          "name": "stdout",
          "output_type": "stream",
          "text": [
            "Neither available nor on sale\n"
          ]
        }
      ],
      "source": [
        "\n",
        "# Multiple conditions\n",
        "in_stock = False\n",
        "on_sale = False\n",
        "\n",
        "if in_stock and on_sale:\n",
        "    print(\"Available and on sale!\")\n",
        "elif in_stock or on_sale:\n",
        "    print(\"Either available or on sale\")\n",
        "else:\n",
        "    print(\"Neither available nor on sale\")"
      ]
    },
    {
      "cell_type": "markdown",
      "metadata": {
        "id": "4ijuOgE6yvVK"
      },
      "source": [
        "### LOOPS"
      ]
    },
    {
      "cell_type": "code",
      "execution_count": null,
      "metadata": {
        "id": "WlxD2crlyvVK",
        "outputId": "32ec038f-0295-402c-ed41-b991b53d5b0d"
      },
      "outputs": [
        {
          "data": {
            "text/plain": [
              "['Laptop', 'Tablet', 'Headphones', 'Keyboard']"
            ]
          },
          "execution_count": 57,
          "metadata": {},
          "output_type": "execute_result"
        }
      ],
      "source": [
        "products"
      ]
    },
    {
      "cell_type": "code",
      "execution_count": null,
      "metadata": {
        "id": "zBGHrKryyvVK",
        "outputId": "6aa473ee-dfb6-4401-856a-dc3dbe658e7d"
      },
      "outputs": [
        {
          "name": "stdout",
          "output_type": "stream",
          "text": [
            "2 + 7 = 9\n",
            "2 + 8 = 10\n",
            "2 + 9 = 11\n",
            "2 + 10 = 12\n",
            "2 + 11 = 13\n",
            "2 + 12 = 14\n",
            "2 + 13 = 15\n",
            "2 + 14 = 16\n"
          ]
        },
        {
          "data": {
            "text/plain": [
              "[7, 8, 9, 10, 11, 12, 13, 14]"
            ]
          },
          "execution_count": 67,
          "metadata": {},
          "output_type": "execute_result"
        }
      ],
      "source": [
        "# intention: add 2 to numbers greater than 6 but less than 15\n",
        "# print(f\"2 + 7 = {2 + 7}\")\n",
        "# print(f\"2 + 8 = {2 + 8}\")\n",
        "# print(f\"2 + 9 = {2 + 9}\")\n",
        "# print(f\"2 + 10 = {2 + 10}\")\n",
        "# print(f\"2 + 11 = {2 + 11}\")\n",
        "# print(f\"2 + 12 = {2 + 12}\")\n",
        "# print(f\"2 + 13 = {2 + 13}\")\n",
        "# print(f\"2 + 14 = {2 + 14}\")\n",
        "\n",
        "# numbers_gt_6 = [7, 8, 9, 10, 11, 12, 13, 14]\n",
        "for number in range(7,15):\n",
        "    result = 2 + number\n",
        "    print(f\"2 + {number} = {result}\")\n",
        "\n",
        "\n",
        "[i for i in range(7,15)] # 0 to 9\n",
        "# List comprehension\n",
        "# [expression for item in iterable if condition]"
      ]
    },
    {
      "cell_type": "code",
      "execution_count": null,
      "metadata": {
        "id": "StEv8qWLyvVL"
      },
      "outputs": [],
      "source": []
    },
    {
      "cell_type": "code",
      "execution_count": null,
      "metadata": {
        "id": "0OM4yL1tyvVL",
        "outputId": "3fc9ffba-a4f3-4d97-8125-c3428335bb6b"
      },
      "outputs": [
        {
          "name": "stdout",
          "output_type": "stream",
          "text": [
            "Products:\n",
            "- Laptop\n",
            "- Tablet\n",
            "- Headphones\n",
            "- Keyboard\n"
          ]
        }
      ],
      "source": [
        "# For loop with list\n",
        "print(\"Products:\")\n",
        "for product in products:\n",
        "    print(f\"- {product}\")\n"
      ]
    },
    {
      "cell_type": "code",
      "execution_count": null,
      "metadata": {
        "id": "TgvFl7D5yvVM",
        "outputId": "14b5a274-8343-4b51-ba1d-dee10fdd9166"
      },
      "outputs": [
        {
          "name": "stdout",
          "output_type": "stream",
          "text": [
            "Numbers from 0 to 4:\n",
            "0\n",
            "1\n",
            "2\n",
            "3\n",
            "4\n"
          ]
        }
      ],
      "source": [
        "\n",
        "# For loop with range\n",
        "print(\"Numbers from 0 to 4:\")\n",
        "for i in range(5):  # 0, 1, 2, 3, 4\n",
        "    print(i)\n"
      ]
    },
    {
      "cell_type": "code",
      "execution_count": null,
      "metadata": {
        "id": "-KoMrWzsyvVM",
        "outputId": "3f8edb87-6894-465a-8905-de38b7878ce0"
      },
      "outputs": [
        {
          "name": "stdout",
          "output_type": "stream",
          "text": [
            "Even numbers from 2 to 10:\n",
            "2\n",
            "4\n",
            "6\n",
            "8\n",
            "10\n"
          ]
        }
      ],
      "source": [
        "\n",
        "# For loop with range (start, stop, step)\n",
        "print(\"Even numbers from 2 to 10:\")\n",
        "for i in range(2, 11, 2):  # 2, 4, 6, 8, 10\n",
        "    print(i)\n"
      ]
    },
    {
      "cell_type": "code",
      "execution_count": null,
      "metadata": {
        "id": "3yWBuUfayvVM"
      },
      "outputs": [],
      "source": [
        "product = {\n",
        "    \"name\": \"Laptop\",\n",
        "    \"brand\": \"TechBrand\",\n",
        "    \"price\": 1200,\n",
        "    \"in_stock\": True,\n",
        "    \"specs\": {\n",
        "        \"cpu\": \"Intel i7\",\n",
        "        \"ram\": \"16GB\",\n",
        "        \"storage\": \"512GB SSD\"\n",
        "        # add more specifications here\n",
        "    }\n",
        "}"
      ]
    },
    {
      "cell_type": "code",
      "execution_count": null,
      "metadata": {
        "id": "4OEK1lbvyvVN",
        "outputId": "6d4acc16-95e4-4c3c-da79-0a917f24b3a0"
      },
      "outputs": [
        {
          "data": {
            "text/plain": [
              "True"
            ]
          },
          "execution_count": 82,
          "metadata": {},
          "output_type": "execute_result"
        }
      ],
      "source": [
        "type(product) == dict # True\n",
        "isinstance(product, dict)"
      ]
    },
    {
      "cell_type": "code",
      "execution_count": null,
      "metadata": {
        "id": "hFzIzrRhyvVN",
        "outputId": "fd8522b8-e502-4413-b936-6696a777a8df"
      },
      "outputs": [
        {
          "name": "stdout",
          "output_type": "stream",
          "text": [
            "Product details:\n",
            "name: Laptop\n",
            "brand: TechBrand\n",
            "price: 1200\n",
            "in_stock: True\n"
          ]
        }
      ],
      "source": [
        "\n",
        "# For loop with dictionary\n",
        "print(\"Product details:\")\n",
        "for key, value in product.items():\n",
        "    # Skip nested dictionaries for cleaner output\n",
        "    if isinstance(value, dict):\n",
        "        continue\n",
        "    print(f\"{key}: {value}\")"
      ]
    },
    {
      "cell_type": "markdown",
      "metadata": {
        "id": "1fDBHrEByvVO"
      },
      "source": [
        "You are given a dictionary where the keys are days of the week and the values are daily sales figures.\n",
        "\n",
        "Write a Python program that goes through the dictionary and prints:\n",
        "\n",
        "The day and `\"High\"` if the value is greater than 1000\n",
        "\n",
        "The day and `\"Medium\"` if the value is between 500 and 1000 (inclusive)\n",
        "\n",
        "The day and `\"Low\"` if the value is less than 500\n",
        "\n",
        "```\n",
        "sales = {\n",
        "    \"Monday\": 1200,\n",
        "    \"Tuesday\": 750,\n",
        "    \"Wednesday\": 300,\n",
        "    \"Thursday\": 1020,\n",
        "    \"Friday\": 499\n",
        "}\n",
        "```"
      ]
    },
    {
      "cell_type": "code",
      "execution_count": null,
      "metadata": {
        "id": "ujB7VWYKyvVO"
      },
      "outputs": [],
      "source": [
        "sales_dict = {\n",
        "    \"Monday\": 1200,\n",
        "    \"Tuesday\": 750,\n",
        "    \"Wednesday\": 300,\n",
        "    \"Thursday\": 1020,\n",
        "    \"Friday\": 499\n",
        "}\n"
      ]
    },
    {
      "cell_type": "code",
      "execution_count": null,
      "metadata": {
        "id": "NTFO4CMDyvVO",
        "outputId": "984fc2ef-84d5-4712-b150-f554f4a21bf3"
      },
      "outputs": [
        {
          "data": {
            "text/plain": [
              "dict_values([1200, 750, 300, 1020, 499])"
            ]
          },
          "execution_count": 89,
          "metadata": {},
          "output_type": "execute_result"
        }
      ],
      "source": [
        "sales_dict.values() # returns all values in the dictionary"
      ]
    },
    {
      "cell_type": "code",
      "execution_count": null,
      "metadata": {
        "id": "n2v2RWdQyvVP",
        "outputId": "e64c3649-61fe-4a31-a2b8-b57940f162d1"
      },
      "outputs": [
        {
          "name": "stdout",
          "output_type": "stream",
          "text": [
            "Monday: High\n",
            "Tuesday: Medium\n",
            "Wednesday: Low\n",
            "Thursday: High\n",
            "Friday: Low\n"
          ]
        }
      ],
      "source": [
        "for key, value in sales_dict.items():\n",
        "    if value > 1000:\n",
        "        print(f\"{key}: High\")\n",
        "    elif 500 < value <= 1000:\n",
        "        print(f\"{key}: Medium\")\n",
        "    else:\n",
        "        print(f\"{key}: Low\")"
      ]
    },
    {
      "cell_type": "code",
      "execution_count": null,
      "metadata": {
        "id": "VidhtgzoyvVQ",
        "outputId": "f068d401-811b-4817-9896-202d34a5c1c7"
      },
      "outputs": [
        {
          "name": "stdout",
          "output_type": "stream",
          "text": [
            "High\n",
            "Medium\n",
            "Low\n",
            "High\n",
            "Low\n"
          ]
        }
      ],
      "source": [
        "for value in sales_dict.values():\n",
        "    if value > 1000:\n",
        "        print(\"High\")\n",
        "    elif 500 < value <= 1000:\n",
        "        print(\"Medium\")\n",
        "    else:\n",
        "        print(\"Low\")"
      ]
    },
    {
      "cell_type": "code",
      "execution_count": null,
      "metadata": {
        "id": "_wSiBLa-yvVQ",
        "outputId": "8248121d-a9ca-4969-dae3-b2138f726a18"
      },
      "outputs": [
        {
          "name": "stdout",
          "output_type": "stream",
          "text": [
            "Countdown:\n",
            "5\n",
            "4\n",
            "3\n",
            "2\n",
            "1\n",
            "Go!\n",
            "Count up:\n",
            "1\n",
            "2\n",
            "3\n",
            "4\n",
            "5\n",
            "Done!\n"
          ]
        }
      ],
      "source": [
        "# While loop\n",
        "count = 5\n",
        "print(\"Countdown:\")\n",
        "while count > 0: # 5 > 0\n",
        "    print(count)\n",
        "    count -= 1 # is the same as  count = count - 1\n",
        "print(\"Go!\")\n",
        "\n",
        "# While loop\n",
        "# goal: count from 1 to 5\n",
        "count = 1 # initialize the variable\n",
        "print(\"Count up:\")\n",
        "while count <= 5: # 1 < 5\n",
        "    print(count)\n",
        "    count += 1 # is the same as  count = count + 1 : incremeting your count to be sent back into your while condition all over again\n",
        "print(\"Done!\")\n"
      ]
    },
    {
      "cell_type": "code",
      "execution_count": null,
      "metadata": {
        "id": "q2n3RrMnyvVR",
        "outputId": "92805978-ce0b-4925-ed53-92aca6e68876"
      },
      "outputs": [
        {
          "data": {
            "text/plain": [
              "2"
            ]
          },
          "execution_count": 99,
          "metadata": {},
          "output_type": "execute_result"
        }
      ],
      "source": [
        "5%2 # 2,1/2\n",
        "# dividend ÷ divisor = quotient ... remainder\n",
        "# 5 ÷ 2 = 2 ... 1\n",
        "5%2 # 1 = remainder --> modulus operator\n",
        "5/2 # 2.5 = float\n",
        "5//2 # 2 = quotient --> integer division operator"
      ]
    },
    {
      "cell_type": "code",
      "execution_count": null,
      "metadata": {
        "id": "WuaHq4znyvVS",
        "outputId": "17a91051-d2a5-44a5-e147-a04924f1e4b7"
      },
      "outputs": [
        {
          "name": "stdout",
          "output_type": "stream",
          "text": [
            "Numbers divisible by 3 (from 1 to 10):\n",
            "3\n",
            "6\n",
            "9\n"
          ]
        }
      ],
      "source": [
        "\n",
        "# Loop control\n",
        "print(\"Numbers divisible by 3 (from 1 to 10):\")\n",
        "for i in range(1, 11):\n",
        "    if i % 3 != 0:\n",
        "        continue  # Skip to next iteration\n",
        "    print(i)\n"
      ]
    },
    {
      "cell_type": "markdown",
      "metadata": {
        "id": "LZn_Uy6byvVS"
      },
      "source": []
    },
    {
      "cell_type": "code",
      "execution_count": null,
      "metadata": {
        "id": "jJu8VuS2yvVS",
        "outputId": "9505914c-04b8-4ed9-93a1-38b1bdb119ad"
      },
      "outputs": [
        {
          "name": "stdout",
          "output_type": "stream",
          "text": [
            "Loop until finding 'Mouse':\n",
            "Laptop\n",
            "Keyboard\n",
            "Mouse\n",
            "Found Mouse!\n"
          ]
        }
      ],
      "source": [
        "\n",
        "print(\"Loop until finding 'Mouse':\")\n",
        "for item in [\"Laptop\", \"Keyboard\", \"Mouse\", \"Monitor\"]:\n",
        "    print(item)\n",
        "    if item == \"Mouse\":\n",
        "        print(\"Found Mouse!\")\n",
        "        break  # Exit loop"
      ]
    },
    {
      "cell_type": "markdown",
      "metadata": {
        "id": "T1nZiaecyvVT"
      },
      "source": [
        "### EXERCISE: Write your own control flow examples with if statements and loops.\n",
        "\n",
        "Try creating examples that handle situations from an e-commerce context, like processing orders with different statuses or calculating shipping based on customer location."
      ]
    },
    {
      "cell_type": "code",
      "execution_count": null,
      "metadata": {
        "id": "oW0IiPtnyvVT"
      },
      "outputs": [],
      "source": [
        "# Your code here:\n",
        "\n"
      ]
    },
    {
      "cell_type": "markdown",
      "metadata": {
        "id": "enlrVzrkyvVT"
      },
      "source": [
        "## SECTION 6: FUNCTIONS"
      ]
    },
    {
      "cell_type": "code",
      "execution_count": null,
      "metadata": {
        "id": "Ib5kCe8YyvVU"
      },
      "outputs": [],
      "source": [
        "# Defining a simple function\n",
        "def greet(name):\n",
        "    return f\"Hello, {name}!\"\n"
      ]
    },
    {
      "cell_type": "code",
      "execution_count": null,
      "metadata": {
        "id": "e4Y3IgA2yvVU",
        "outputId": "aff1ecd3-53a8-405d-922d-53801e361764"
      },
      "outputs": [
        {
          "name": "stdout",
          "output_type": "stream",
          "text": [
            "Hello, Data Analyst!\n"
          ]
        }
      ],
      "source": [
        "print(greet(name=\"Data Analyst\"))  # Call the function with an argument"
      ]
    },
    {
      "cell_type": "code",
      "execution_count": null,
      "metadata": {
        "id": "yXyZiHLKyvVU",
        "outputId": "4356cf17-0ad7-4e01-f663-f2e47d1ea9f3"
      },
      "outputs": [
        {
          "name": "stdout",
          "output_type": "stream",
          "text": [
            "Hello, Data Analyst!\n"
          ]
        }
      ],
      "source": [
        "\n",
        "# Calling the function\n",
        "message = greet(\"Data Analyst\")\n",
        "print(message)"
      ]
    },
    {
      "cell_type": "code",
      "execution_count": null,
      "metadata": {
        "id": "3xaUWrSzyvVV"
      },
      "outputs": [],
      "source": [
        "# Function with multiple parameters\n",
        "def calculate_total(price, quantity, tax_rate=0.1):\n",
        "    subtotal = price * quantity\n",
        "    tax = subtotal * tax_rate\n",
        "    return subtotal + tax\n",
        "\n"
      ]
    },
    {
      "cell_type": "code",
      "execution_count": null,
      "metadata": {
        "id": "pQ87kMGjyvVV",
        "outputId": "07adcd98-2f68-43f4-97f5-b8c815f8dfbc"
      },
      "outputs": [
        {
          "name": "stdout",
          "output_type": "stream",
          "text": [
            "Total 1: NGN68.97\n"
          ]
        }
      ],
      "source": [
        "\n",
        "# Calling with positional arguments\n",
        "total1 = calculate_total(19.99, 3)\n",
        "print(f\"Total 1: NGN{total1:.2f}\")\n"
      ]
    },
    {
      "cell_type": "code",
      "execution_count": null,
      "metadata": {
        "id": "EbgIr9fnyvVW",
        "outputId": "8b0216c6-a1b6-49ee-f689-856a55a8291d"
      },
      "outputs": [
        {
          "name": "stdout",
          "output_type": "stream",
          "text": [
            "Total 2: $52.48\n"
          ]
        }
      ],
      "source": [
        "\n",
        "# Calling with keyword arguments\n",
        "total2 = calculate_total(quantity=2, tax_rate=0.05, price=24.99)\n",
        "print(f\"Total 2: ${total2:.2f}\")"
      ]
    },
    {
      "cell_type": "code",
      "execution_count": null,
      "metadata": {
        "id": "JLhX47MZyvVW",
        "outputId": "88f111cc-0ba4-476b-dbe9-70f2cee19568"
      },
      "outputs": [
        {
          "data": {
            "text/plain": [
              "['Laptop', 'Tablet', 'Headphones', 'Keyboard']"
            ]
          },
          "execution_count": 116,
          "metadata": {},
          "output_type": "execute_result"
        }
      ],
      "source": [
        "products"
      ]
    },
    {
      "cell_type": "code",
      "execution_count": null,
      "metadata": {
        "id": "IBItMotIyvVW"
      },
      "outputs": [],
      "source": [
        "# Function with multiple return values\n",
        "def get_product_stats(products):\n",
        "    count = len(products)\n",
        "    if count == 0:\n",
        "        return 0, None, None\n",
        "\n",
        "    min_product = min(products, key=len)\n",
        "    max_product = max(products, key=len)\n",
        "    return [count, min_product, max_product]\n"
      ]
    },
    {
      "cell_type": "code",
      "execution_count": null,
      "metadata": {
        "id": "hhfbPeDryvVX"
      },
      "outputs": [],
      "source": [
        "output = get_product_stats([\"Laptop\", \"Mouse\", \"Keyboard\", \"Monitor\"])"
      ]
    },
    {
      "cell_type": "code",
      "execution_count": null,
      "metadata": {
        "id": "a12Gt0WxyvVY"
      },
      "outputs": [],
      "source": [
        "count=output[0]\n",
        "shortest =output[1]\n",
        "longest = output[2]\n",
        "# list unpacking\n",
        "count, shortest, longest = output"
      ]
    },
    {
      "cell_type": "code",
      "execution_count": null,
      "metadata": {
        "id": "w1JThL4xyvVZ",
        "outputId": "0496d29f-1763-4f42-8a36-d3b0e0ca9f36"
      },
      "outputs": [
        {
          "name": "stdout",
          "output_type": "stream",
          "text": [
            "Products: 4, Shortest: Mouse, Longest: Keyboard\n"
          ]
        }
      ],
      "source": [
        "\n",
        "# Unpacking multiple return values\n",
        "count, shortest, longest = get_product_stats([\"Laptop\", \"Mouse\", \"Keyboard\", \"Monitor\"])\n",
        "print(f\"Products: {count}, Shortest: {shortest}, Longest: {longest}\")"
      ]
    },
    {
      "cell_type": "markdown",
      "metadata": {
        "id": "nGYgsd_dyvVZ"
      },
      "source": [
        "### EXERCISE: Write your own functions to solve problems related to data processing.\n",
        "\n",
        "Try creating functions that would be useful in an e-commerce context, like calculating shipping costs, formatting product details, or filtering products by category."
      ]
    },
    {
      "cell_type": "code",
      "execution_count": null,
      "metadata": {
        "id": "mVcq13eryvVa"
      },
      "outputs": [],
      "source": [
        "# Your code here:\n",
        "\n"
      ]
    },
    {
      "cell_type": "markdown",
      "metadata": {
        "id": "Vx6z17tGyvVa"
      },
      "source": [
        "## SECTION 7: SQL TO PYTHON TRANSLATION\n",
        "\n",
        "In SQL, you use queries to retrieve and manipulate data. In Python, we often use pandas (imported as pd) for similar operations."
      ]
    },
    {
      "cell_type": "code",
      "execution_count": null,
      "metadata": {
        "id": "9NyCwdsbyvVa",
        "outputId": "9c544ecb-969f-410e-f11a-18f39f5e57dc"
      },
      "outputs": [
        {
          "name": "stdout",
          "output_type": "stream",
          "text": [
            "Products DataFrame:\n",
            "   product_id        name   category  price  in_stock\n",
            "0           1      Laptop   Computer   1200      True\n",
            "1           2       Mouse  Accessory     25      True\n",
            "2           3    Keyboard  Accessory     60     False\n",
            "3           4     Monitor   Computer    300      True\n",
            "4           5  Headphones      Audio    150      True\n"
          ]
        }
      ],
      "source": [
        "import pandas as pd\n",
        "\n",
        "# Create a DataFrame (similar to a SQL table)\n",
        "data = {\n",
        "    'product_id': [1, 2, 3, 4, 5],\n",
        "    'name': ['Laptop', 'Mouse', 'Keyboard', 'Monitor', 'Headphones'],\n",
        "    'category': ['Computer', 'Accessory', 'Accessory', 'Computer', 'Audio'],\n",
        "    'price': [1200, 25, 60, 300, 150],\n",
        "    'in_stock': [True, True, False, True, True]\n",
        "}\n",
        "\n",
        "products_df = pd.DataFrame(data)\n",
        "print(\"Products DataFrame:\")\n",
        "print(products_df)"
      ]
    },
    {
      "cell_type": "code",
      "execution_count": null,
      "metadata": {
        "id": "JiIcxbRUyvVb",
        "outputId": "36216b03-95a7-4a31-dee5-5a353c0dc0f8"
      },
      "outputs": [
        {
          "name": "stdout",
          "output_type": "stream",
          "text": [
            "\n",
            "All products (SELECT *):\n",
            "\n",
            "   product_id        name   category  price  in_stock\n",
            "0           1      Laptop   Computer   1200      True\n",
            "1           2       Mouse  Accessory     25      True\n",
            "2           3    Keyboard  Accessory     60     False\n",
            "3           4     Monitor   Computer    300      True\n",
            "4           5  Headphones      Audio    150      True\n"
          ]
        }
      ],
      "source": [
        "# SQL: SELECT * FROM products\n",
        "# Python:\n",
        "print(\"\\nAll products (SELECT *):\\n\")\n",
        "print(products_df)\n"
      ]
    },
    {
      "cell_type": "code",
      "execution_count": null,
      "metadata": {
        "id": "80ULA5uDyvVc",
        "outputId": "83ecfe33-e907-40a5-eee0-229b3f033f48"
      },
      "outputs": [
        {
          "name": "stdout",
          "output_type": "stream",
          "text": [
            "\n",
            "Select specific columns:\n",
            "\n",
            "         name  price\n",
            "0      Laptop   1200\n",
            "1       Mouse     25\n",
            "2    Keyboard     60\n",
            "3     Monitor    300\n",
            "4  Headphones    150\n"
          ]
        }
      ],
      "source": [
        "\n",
        "# SQL: SELECT name, price FROM products\n",
        "# Python:\n",
        "print(\"\\nSelect specific columns:\\n\")\n",
        "print(products_df[['name', 'price']])\n"
      ]
    },
    {
      "cell_type": "code",
      "execution_count": null,
      "metadata": {
        "id": "KKTXZntqyvVc",
        "outputId": "6523f9dd-230b-47d1-f30b-578f7ce5e7b1"
      },
      "outputs": [
        {
          "name": "stdout",
          "output_type": "stream",
          "text": [
            "\n",
            "Filtering (WHERE):\n",
            "\n",
            "   product_id      name   category  price  in_stock\n",
            "1           2     Mouse  Accessory     25      True\n",
            "2           3  Keyboard  Accessory     60     False\n"
          ]
        }
      ],
      "source": [
        "\n",
        "# SQL: SELECT * FROM products WHERE category = 'Accessory'\n",
        "# Python:\n",
        "print(\"\\nFiltering (WHERE):\\n\")\n",
        "accessories = products_df[products_df['category'] == 'Accessory']\n",
        "print(accessories)"
      ]
    },
    {
      "cell_type": "code",
      "execution_count": null,
      "metadata": {
        "id": "5zqCiDEWyvVd"
      },
      "outputs": [],
      "source": [
        "# SQL: SELECT category, AVG(price) FROM products GROUP BY category\n",
        "# Python:\n",
        "print(\"\\nGrouping and aggregation (GROUP BY):\\n\")\n",
        "category_avg = products_df.groupby('category')['price'].mean().reset_index()\n",
        "print(category_avg)\n",
        "\n",
        "# SQL: SELECT * FROM products ORDER BY price DESC\n",
        "# Python:\n",
        "print(\"\\nSorting (ORDER BY):\\n\")\n",
        "sorted_products = products_df.sort_values('price', ascending=False)\n",
        "print(sorted_products)\n",
        "\n",
        "# SQL: SELECT category, COUNT(*) FROM products GROUP BY category HAVING COUNT(*) > 1\n",
        "# Python:\n",
        "print(\"\\nGROUP BY with HAVING:\\n\")\n",
        "category_counts = products_df.groupby('category').size().reset_index(name='count')\n",
        "print(category_counts[category_counts['count'] > 1])"
      ]
    },
    {
      "cell_type": "markdown",
      "metadata": {
        "id": "yvJttW-uyvVd"
      },
      "source": [
        "### EXERCISE: Try writing your own pandas operations to mimic SQL queries.\n",
        "\n",
        "Practice translating SQL queries you might use in your work to their pandas equivalents."
      ]
    },
    {
      "cell_type": "code",
      "execution_count": null,
      "metadata": {
        "id": "MAGiEvJTyvVd"
      },
      "outputs": [],
      "source": [
        "# Your code here:\n",
        "\n"
      ]
    },
    {
      "cell_type": "markdown",
      "metadata": {
        "id": "DFmVgj4XyvVe"
      },
      "source": [
        "## SECTION 8: PUTTING IT ALL TOGETHER\n",
        "\n",
        "Let's create a function that performs a complete data analysis workflow."
      ]
    },
    {
      "cell_type": "code",
      "execution_count": null,
      "metadata": {
        "id": "yXppHaDcyvVe",
        "outputId": "fb7be7a3-de6e-4475-baf1-7c6c2260b959"
      },
      "outputs": [
        {
          "name": "stdout",
          "output_type": "stream",
          "text": [
            "\n",
            "Product Analysis Results:\n",
            "Total Products: 5\n",
            "Average Price: $347.00\n",
            "In-Stock Products: 4 (80.0%)\n",
            "\n",
            "Category Statistics:\n",
            "          product_id  price            in_stock\n",
            "               count   mean  min   max      sum\n",
            "category                                       \n",
            "Accessory          2   42.5   25    60        1\n",
            "Audio              1  150.0  150   150        1\n",
            "Computer           2  750.0  300  1200        2\n",
            "\n",
            "Most Expensive Product:\n",
            "product_id           1\n",
            "name            Laptop\n",
            "category      Computer\n",
            "price             1200\n",
            "in_stock          True\n",
            "Name: 0, dtype: object\n"
          ]
        }
      ],
      "source": [
        "def analyze_product_data(data):\n",
        "    # Create DataFrame\n",
        "    df = pd.DataFrame(data)\n",
        "\n",
        "    # Calculate basic statistics\n",
        "    total_products = len(df)\n",
        "    avg_price = df['price'].mean()\n",
        "    in_stock_count = df['in_stock'].sum()\n",
        "\n",
        "    # Group by category\n",
        "    category_stats = df.groupby('category').agg({\n",
        "        'product_id': 'count',\n",
        "        'price': ['mean', 'min', 'max'],\n",
        "        'in_stock': 'sum'\n",
        "    })\n",
        "\n",
        "    # Format and return results\n",
        "    print(f\"Total Products: {total_products}\")\n",
        "    print(f\"Average Price: ${avg_price:.2f}\")\n",
        "    print(f\"In-Stock Products: {in_stock_count} ({in_stock_count/total_products:.1%})\")\n",
        "    print(\"\\nCategory Statistics:\")\n",
        "    print(category_stats)\n",
        "\n",
        "    # Return the most expensive product\n",
        "    most_expensive = df.loc[df['price'].idxmax()]\n",
        "    return most_expensive\n",
        "\n",
        "# Run the analysis\n",
        "print(\"\\nProduct Analysis Results:\")\n",
        "top_product = analyze_product_data(data)\n",
        "print(\"\\nMost Expensive Product:\")\n",
        "print(top_product)"
      ]
    },
    {
      "cell_type": "markdown",
      "metadata": {
        "id": "H6xcbo2QyvVf"
      },
      "source": [
        "### FINAL EXERCISE: Expand the analyze_product_data function to include more analyses.\n",
        "\n",
        "For example, add calculations for median price, price ranges, or out-of-stock percentages."
      ]
    },
    {
      "cell_type": "code",
      "execution_count": null,
      "metadata": {
        "id": "-Uz4PiUiyvVf"
      },
      "outputs": [],
      "source": [
        "# Your code here:\n",
        "\n"
      ]
    },
    {
      "cell_type": "markdown",
      "metadata": {
        "id": "aVA3xBrHyvVg"
      },
      "source": [
        "## NEXT STEPS\n",
        "\n",
        "Congratulations on completing this introduction to Python and Google Colab!\n",
        "\n",
        "### Tomorrow's class (Thursday, April 10)\n",
        "We'll dive deeper into data structures and control flow, focusing on:\n",
        "- Advanced data structures (nested lists and dictionaries)\n",
        "- Complex control flow patterns\n",
        "- List and dictionary comprehensions\n",
        "- Error handling\n",
        "\n",
        "### Assignment\n",
        "Please complete the Week 1 Minor Assignment before next Wednesday's class. The instructions and starter code are available in the course repository."
      ]
    }
  ],
  "metadata": {
    "kernelspec": {
      "display_name": ".venv (3.13.2)",
      "language": "python",
      "name": "python3"
    },
    "language_info": {
      "codemirror_mode": {
        "name": "ipython",
        "version": 3
      },
      "file_extension": ".py",
      "mimetype": "text/x-python",
      "name": "python",
      "nbconvert_exporter": "python",
      "pygments_lexer": "ipython3",
      "version": "3.13.2"
    },
    "colab": {
      "provenance": []
    }
  },
  "nbformat": 4,
  "nbformat_minor": 0
}